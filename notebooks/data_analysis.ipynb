# ---------------------------------------
# Cell 1: Import Libraries
# ---------------------------------------
import pandas as pd
import matplotlib.pyplot as plt

# ---------------------------------------
# Cell 2: Load Simulated Data (from Spark output)
# ---------------------------------------

# Simulate what would come from Spark output or Kafka
data = {
    "timestamp": pd.date_range("2025-01-01", periods=10, freq='T'),
    "heart_rate": [72, 75, 88, 91, 110, 95, 60, 65, 125, 85],
    "blood_pressure": [120, 118, 125, 130, 140, 135, 110, 112, 145, 138],
    "oxygen_level": [97, 96, 95, 94, 93, 90, 91, 89, 88, 92]
}
df = pd.DataFrame(data)
df.head()

# ---------------------------------------
# Cell 3: Plot Heart Rate
# ---------------------------------------
plt.figure(figsize=(10, 4))
plt.plot(df['timestamp'], df['heart_rate'], marker='o')
plt.title("Heart Rate Over Time")
plt.xlabel("Time")
plt.ylabel("Heart Rate (bpm)")
plt.grid(True)
plt.show()

# ---------------------------------------
# Cell 4: Highlight Abnormal Vitals
# ---------------------------------------
abnormal = df[
    (df['heart_rate'] > 100) |
    (df['blood_pressure'] > 130) |
    (df['oxygen_level'] < 94)
]
print("🚨 Abnormal vitals:")
abnormal

